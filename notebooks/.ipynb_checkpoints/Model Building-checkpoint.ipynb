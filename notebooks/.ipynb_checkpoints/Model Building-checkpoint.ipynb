{
 "cells": [
  {
   "cell_type": "code",
   "execution_count": 1,
   "metadata": {},
   "outputs": [],
   "source": [
    "#importing modules\n",
    "import numpy as np\n",
    "import pandas as pd\n",
    "import pickle\n",
    "from sklearn import svm\n",
    "from sklearn.naive_bayes import GaussianNB\n",
    "from sklearn.linear_model import LogisticRegression\n",
    "from sklearn.neighbors import KNeighborsClassifier\n",
    "from sklearn.ensemble import RandomForestClassifier\n",
    "from sklearn.tree import DecisionTreeClassifier"
   ]
  },
  {
   "cell_type": "code",
   "execution_count": 2,
   "metadata": {},
   "outputs": [],
   "source": [
    "#importing csv file\n",
    "df = pd.read_csv(\"..\\\\data\\\\final1.csv\")\n",
    "\n",
    "dfTrain = df[:350] #used for training model\n",
    "dfTest = df[350:] #used for test model for accuracy test"
   ]
  },
  {
   "cell_type": "code",
   "execution_count": 3,
   "metadata": {},
   "outputs": [],
   "source": [
    "#converting dataframes to numpy array\n",
    "trainLabel = np.asarray(dfTrain['Outcome']) #target variable\n",
    "trainData = np.asarray(dfTrain.drop('Outcome', axis=1)) #independent variables\n",
    "testLabel = np.asarray(dfTest['Outcome'])\n",
    "testData = np.asarray(dfTest.drop('Outcome', axis=1))"
   ]
  },
  {
   "cell_type": "markdown",
   "metadata": {},
   "source": [
    "## Support Vector Machine (SVM)"
   ]
  },
  {
   "cell_type": "code",
   "execution_count": 4,
   "metadata": {},
   "outputs": [
    {
     "data": {
      "text/plain": [
       "SVC()"
      ]
     },
     "execution_count": 4,
     "metadata": {},
     "output_type": "execute_result"
    }
   ],
   "source": [
    "#training svm model\n",
    "modelsvm = svm.SVC()\n",
    "modelsvm.fit(trainData, trainLabel)"
   ]
  },
  {
   "cell_type": "code",
   "execution_count": 5,
   "metadata": {},
   "outputs": [
    {
     "name": "stdout",
     "output_type": "stream",
     "text": [
      "Accuracy: 83.33333333333334 %\n"
     ]
    }
   ],
   "source": [
    "#calculating accuracy\n",
    "accsvm = modelsvm.score(testData, testLabel)\n",
    "print(\"Accuracy:\", accsvm * 100, \"%\")"
   ]
  },
  {
   "cell_type": "code",
   "execution_count": 6,
   "metadata": {},
   "outputs": [],
   "source": [
    "guess = np.array([[0, 201, 80, 23, 25, 20, 0.5, 30]]) #glucose level above 200 is diabetic"
   ]
  },
  {
   "cell_type": "code",
   "execution_count": 7,
   "metadata": {},
   "outputs": [
    {
     "name": "stdout",
     "output_type": "stream",
     "text": [
      "Diabetic\n"
     ]
    }
   ],
   "source": [
    "#predicting if user has diabetes \n",
    "predictsvm = \"Diabetic\" if modelsvm.predict(guess)[0]==1 else \"Non-Diabetic\"\n",
    "print(predictsvm)"
   ]
  },
  {
   "cell_type": "code",
   "execution_count": 8,
   "metadata": {},
   "outputs": [],
   "source": [
    "#saving svm model\n",
    "with open('..\\\\models\\\\SVM.pkl', 'wb') as f:\n",
    "    pickle.dump(modelsvm,f)"
   ]
  },
  {
   "cell_type": "markdown",
   "metadata": {},
   "source": [
    "## Naive Bayes"
   ]
  },
  {
   "cell_type": "code",
   "execution_count": 9,
   "metadata": {},
   "outputs": [
    {
     "data": {
      "text/plain": [
       "GaussianNB()"
      ]
     },
     "execution_count": 9,
     "metadata": {},
     "output_type": "execute_result"
    }
   ],
   "source": [
    "#training naive bayes model\n",
    "modelnb = GaussianNB()\n",
    "modelnb.fit(trainData, trainLabel)"
   ]
  },
  {
   "cell_type": "code",
   "execution_count": 10,
   "metadata": {},
   "outputs": [
    {
     "name": "stdout",
     "output_type": "stream",
     "text": [
      "Accuracy: 83.33333333333334 %\n"
     ]
    }
   ],
   "source": [
    "#calculating accuracy\n",
    "accnb = modelnb.score(testData, testLabel)\n",
    "print(\"Accuracy:\", accnb * 100, \"%\")"
   ]
  },
  {
   "cell_type": "code",
   "execution_count": 11,
   "metadata": {},
   "outputs": [
    {
     "name": "stdout",
     "output_type": "stream",
     "text": [
      "Diabetic\n"
     ]
    }
   ],
   "source": [
    "#predicting if user has diabetes \n",
    "predictnb = \"Diabetic\" if modelnb.predict(guess)[0]==1 else \"Non-Diabetic\"\n",
    "print(predictnb)"
   ]
  },
  {
   "cell_type": "code",
   "execution_count": 12,
   "metadata": {},
   "outputs": [],
   "source": [
    "#saving naive bayes model\n",
    "with open('..\\\\models\\\\Naive_Bayes.pkl', 'wb') as f:\n",
    "    pickle.dump(modelnb,f)"
   ]
  },
  {
   "cell_type": "markdown",
   "metadata": {},
   "source": [
    "## Logistic Regression"
   ]
  },
  {
   "cell_type": "code",
   "execution_count": 13,
   "metadata": {},
   "outputs": [
    {
     "data": {
      "text/plain": [
       "LogisticRegression(max_iter=1000)"
      ]
     },
     "execution_count": 13,
     "metadata": {},
     "output_type": "execute_result"
    }
   ],
   "source": [
    "#training Logistic Regression model\n",
    "modellr = LogisticRegression(solver='lbfgs', max_iter=1000)\n",
    "modellr.fit(trainData, trainLabel)"
   ]
  },
  {
   "cell_type": "code",
   "execution_count": 14,
   "metadata": {},
   "outputs": [
    {
     "name": "stdout",
     "output_type": "stream",
     "text": [
      "Accuracy: 88.09523809523809 %\n"
     ]
    }
   ],
   "source": [
    "#calculating accuracy\n",
    "acclr = modellr.score(testData, testLabel)\n",
    "print(\"Accuracy:\", acclr * 100, \"%\")"
   ]
  },
  {
   "cell_type": "code",
   "execution_count": 15,
   "metadata": {},
   "outputs": [
    {
     "name": "stdout",
     "output_type": "stream",
     "text": [
      "Diabetic\n"
     ]
    }
   ],
   "source": [
    "#predicting if user has diabetes \n",
    "predictlr = \"Diabetic\" if modellr.predict(guess)[0]==1 else \"Non-Diabetic\"\n",
    "print(predictlr)"
   ]
  },
  {
   "cell_type": "code",
   "execution_count": 16,
   "metadata": {},
   "outputs": [],
   "source": [
    "#saving Logistic Regression model\n",
    "with open('..\\\\models\\\\Logistic_Regression.pkl', 'wb') as f:\n",
    "    pickle.dump(modellr,f)"
   ]
  },
  {
   "cell_type": "markdown",
   "metadata": {},
   "source": [
    "## K nearest neighbour"
   ]
  },
  {
   "cell_type": "code",
   "execution_count": 17,
   "metadata": {},
   "outputs": [
    {
     "data": {
      "text/plain": [
       "KNeighborsClassifier(n_neighbors=20)"
      ]
     },
     "execution_count": 17,
     "metadata": {},
     "output_type": "execute_result"
    }
   ],
   "source": [
    "#training KNN model\n",
    "modelknn = KNeighborsClassifier(n_neighbors=20)\n",
    "modelknn.fit(trainData, trainLabel) "
   ]
  },
  {
   "cell_type": "code",
   "execution_count": 18,
   "metadata": {},
   "outputs": [
    {
     "name": "stdout",
     "output_type": "stream",
     "text": [
      "Accuracy: 85.71428571428571 %\n"
     ]
    }
   ],
   "source": [
    "#calculating accuracy\n",
    "accknn = modelknn.score(testData, testLabel)\n",
    "print(\"Accuracy:\", accknn * 100, \"%\")"
   ]
  },
  {
   "cell_type": "code",
   "execution_count": 19,
   "metadata": {},
   "outputs": [
    {
     "name": "stdout",
     "output_type": "stream",
     "text": [
      "Non-Diabetic\n"
     ]
    }
   ],
   "source": [
    "#predicting if user has diabetes \n",
    "predictknn = \"Diabetic\" if modelknn.predict(guess)[0]==1 else \"Non-Diabetic\"\n",
    "print(predictknn)"
   ]
  },
  {
   "cell_type": "code",
   "execution_count": 20,
   "metadata": {},
   "outputs": [],
   "source": [
    "#saving KNN model\n",
    "with open('..\\\\models\\\\KNN.pkl', 'wb') as f:\n",
    "    pickle.dump(modelknn,f)"
   ]
  },
  {
   "cell_type": "markdown",
   "metadata": {},
   "source": [
    "## Random Forest"
   ]
  },
  {
   "cell_type": "code",
   "execution_count": 21,
   "metadata": {},
   "outputs": [
    {
     "data": {
      "text/plain": [
       "RandomForestClassifier(max_features='sqrt', n_estimators=1000)"
      ]
     },
     "execution_count": 21,
     "metadata": {},
     "output_type": "execute_result"
    }
   ],
   "source": [
    "#training Random forest model\n",
    "modelrf = RandomForestClassifier(n_estimators = 1000, max_features = 'sqrt')\n",
    "modelrf.fit(trainData, trainLabel)"
   ]
  },
  {
   "cell_type": "code",
   "execution_count": 22,
   "metadata": {},
   "outputs": [
    {
     "name": "stdout",
     "output_type": "stream",
     "text": [
      "Accuracy: 83.33333333333334 %\n"
     ]
    }
   ],
   "source": [
    "#calculating accuracy\n",
    "accrf = modelrf.score(testData, testLabel)\n",
    "print(\"Accuracy:\", accrf * 100, \"%\")"
   ]
  },
  {
   "cell_type": "code",
   "execution_count": 23,
   "metadata": {},
   "outputs": [
    {
     "name": "stdout",
     "output_type": "stream",
     "text": [
      "Non-Diabetic\n"
     ]
    }
   ],
   "source": [
    "#predicting if user has diabetes \n",
    "predictrf = \"Diabetic\" if modelrf.predict(guess)[0]==1 else \"Non-Diabetic\"\n",
    "print(predictrf)"
   ]
  },
  {
   "cell_type": "code",
   "execution_count": 24,
   "metadata": {},
   "outputs": [],
   "source": [
    "#saving Random Forest model\n",
    "with open('..\\\\models\\\\Random_Forest.pkl', 'wb') as f:\n",
    "    pickle.dump(modelrf,f)"
   ]
  },
  {
   "cell_type": "markdown",
   "metadata": {},
   "source": [
    "## Decision Tree"
   ]
  },
  {
   "cell_type": "code",
   "execution_count": 25,
   "metadata": {},
   "outputs": [
    {
     "data": {
      "text/plain": [
       "DecisionTreeClassifier(criterion='entropy')"
      ]
     },
     "execution_count": 25,
     "metadata": {},
     "output_type": "execute_result"
    }
   ],
   "source": [
    "#training Decision Tree model\n",
    "modeldt = DecisionTreeClassifier(criterion=\"entropy\")\n",
    "modeldt.fit(trainData, trainLabel)"
   ]
  },
  {
   "cell_type": "code",
   "execution_count": 26,
   "metadata": {},
   "outputs": [
    {
     "name": "stdout",
     "output_type": "stream",
     "text": [
      "Accuracy: 71.42857142857143 %\n"
     ]
    }
   ],
   "source": [
    "#calculating accuracy\n",
    "accdt = modeldt.score(testData, testLabel)\n",
    "print(\"Accuracy:\", accdt * 100, \"%\")"
   ]
  },
  {
   "cell_type": "code",
   "execution_count": 27,
   "metadata": {},
   "outputs": [
    {
     "name": "stdout",
     "output_type": "stream",
     "text": [
      "Diabetic\n"
     ]
    }
   ],
   "source": [
    "#predicting if user has diabetes \n",
    "predictdt = \"Diabetic\" if modeldt.predict(guess)[0]==1 else \"Non-Diabetic\"\n",
    "print(predictdt)"
   ]
  },
  {
   "cell_type": "code",
   "execution_count": 28,
   "metadata": {},
   "outputs": [],
   "source": [
    "#saving Decision Tree model\n",
    "with open('..\\\\models\\\\Decision_Tree.pkl', 'wb') as f:\n",
    "    pickle.dump(modeldt,f)"
   ]
  }
 ],
 "metadata": {
  "kernelspec": {
   "display_name": "Python 3 (ipykernel)",
   "language": "python",
   "name": "python3"
  },
  "language_info": {
   "codemirror_mode": {
    "name": "ipython",
    "version": 3
   },
   "file_extension": ".py",
   "mimetype": "text/x-python",
   "name": "python",
   "nbconvert_exporter": "python",
   "pygments_lexer": "ipython3",
   "version": "3.9.7"
  }
 },
 "nbformat": 4,
 "nbformat_minor": 4
}
